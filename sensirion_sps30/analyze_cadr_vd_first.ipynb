{
 "cells": [
  {
   "cell_type": "code",
   "execution_count": null,
   "metadata": {},
   "outputs": [],
   "source": [
    "import pandas as pd\n",
    "import matplotlib.pyplot as plt\n",
    "import numpy as np\n",
    "import scipy.stats\n",
    "from scipy.optimize import curve_fit\n",
    "import math\n",
    "\n",
    "pd.options.plotting.backend = 'plotly'"
   ]
  },
  {
   "cell_type": "markdown",
   "metadata": {},
   "source": [
    "# Ventilation and Deposition"
   ]
  },
  {
   "cell_type": "code",
   "execution_count": null,
   "metadata": {},
   "outputs": [],
   "source": [
    "vd_filename = 'data_mesh/vd.edf'\n",
    "\n",
    "if vd_filename.endswith('.edf'):\n",
    "    df = pd.read_csv(vd_filename, sep='\\t', skiprows=9)\n",
    "    df.rename(columns = {'Epoch_UTC': 'time'}, inplace=True)\n",
    "    # set time off of zero rather than epoch\n",
    "    time_offset = df.time[0]\n",
    "    df['time'] -= time_offset\n",
    "    col_fit = 'MassConc_2p5_SPS3x_AE8B4EE783812236'\n",
    "else:\n",
    "    df = pd.read_csv(vd_filename)\n",
    "    print('F°: {}'.format(df['temp_F'][10]))\n",
    "    print('C°: {}'.format(df['temp_C'][10]))\n",
    "    print('rh: {}%'.format(df.rh[10]))\n",
    "\n",
    "    # column to fit on, mass PM2.5 is a good choice for NaCl aerosol CADR\n",
    "    # changing this variable makes it possible to explore other options\n",
    "    col_fit = 'mPM2.5'\n",
    "    # set fit_under to the high value where the fit starts. for mPM2.5 use 1000, mPM1.0 use 450.\n",
    "    fit_under = 1000\n",
    "\n",
    "# get rid of all the columns not used to fit the data\n",
    "for col in [x for x in df.columns.values.tolist() if x not in [col_fit, 'time']]:\n",
    "    del df[col]\n",
    "\n",
    "# especially not bothering with pm4.0 and pm10 bc they are just interpolations of 0.5, 1.0, and 2.5\n",
    "# see sensirion docs for the explanation\n",
    "\n",
    "# plot the original data\n",
    "df.set_index('time').plot(title='Ventilation and Deposition', kind='line')\n"
   ]
  },
  {
   "cell_type": "code",
   "execution_count": null,
   "metadata": {},
   "outputs": [],
   "source": [
    "\n",
    "# see equation (S1) from supplemental material here: https://www.tandfonline.com/doi/full/10.1080/02786826.2022.2054674?scroll=top&needAccess=true\n",
    "# version of the functions where ACH is unknown and has to be solved for\n",
    "class DecayFuncs:\n",
    "    def __init__(self, C_bgd, C_pt0):\n",
    "        ## logarithmic function\n",
    "        def func(t, ACH):\n",
    "            # divide by 3600 to convert seconds to hours\n",
    "            return C_bgd + C_pt0 * np.exp(-ACH*t / 3600)\n",
    "\n",
    "        # linear version of the same function, it's the natural log of the exponential function\n",
    "        def linear_func(t, ACH):\n",
    "            return np.log(C_pt0) - ACH * t / 3600\n",
    "\n",
    "        self.func = func\n",
    "        self.linear_func = linear_func\n",
    "\n",
    "# perform the curve fitting and return the resulting parameters\n",
    "def test_fit(df):\n",
    "    C_bgd = 0\n",
    "    C_pt0 = df[col_fit][df.index[0]]\n",
    "    f = DecayFuncs(C_bgd, C_pt0)\n",
    "\n",
    "    popt, pcov = curve_fit(f.linear_func, df.time, np.log(df[col_fit]))\n",
    "    stderr = np.sqrt(np.diag(pcov)[0])\n",
    "    return (C_pt0, popt, stderr)"
   ]
  },
  {
   "cell_type": "markdown",
   "metadata": {},
   "source": [
    "Find ACH_vd for this run based on the natural decay period."
   ]
  },
  {
   "cell_type": "code",
   "execution_count": null,
   "metadata": {},
   "outputs": [],
   "source": [
    "# begin window search at pm2.5 max\n",
    "pm25_max_idx = df.idxmax()[col_fit]\n",
    "if pm25_max_idx != 0:\n",
    "    df = df.tail(-pm25_max_idx).copy()\n",
    "    df.index -= df.index[0]\n",
    "    df['time'] -= df.time[0]\n",
    "\n",
    "# analyze CADR in window of [1000, 100] because error of sps 30 is multiplicative in this range, +/- 10%\n",
    "# in [100, 0] error becomes +/- 10 which means error will become exaggerated at these levels\n",
    "# see: https://sensirion.com/media/documents/8600FF88/616542B5/Sensirion_PM_Sensors_Datasheet_SPS30.pdf\n",
    "\n",
    "# cut off all records before pm2.5 dropped to 1000\n",
    "drop_start_idx = df[df[col_fit] <= fit_under].index[0]\n",
    "if drop_start_idx != 0:\n",
    "    df = df.tail(-drop_start_idx).copy()\n",
    "    df.index -= df.index[0]\n",
    "    df['time'] -= df.time[0]\n",
    "\n",
    "lt25_iloc = df[df[col_fit] < 100].index[0]\n",
    "df = df.head(lt25_iloc).copy()\n",
    "\n",
    "print('num data points to fit: {}'.format(len(df)))\n",
    "\n",
    "C_pt0, popt, naturaldecay_stderr = test_fit(df)\n",
    "ACH_vd = popt[0]\n",
    "print('C_pt0: {}'.format(C_pt0))\n",
    "print('ACH_vd: {}'.format(ACH_vd))\n",
    "print('stderr: {}'.format(naturaldecay_stderr))\n",
    "\n",
    "f = DecayFuncs(0, C_pt0)\n",
    "\n",
    "plt.scatter(df.time, df[col_fit], label=\"Original Data\")\n",
    "plt.plot(df.time, f.func(df.time, ACH_vd), 'r-', label=\"ACH_vd {:0.2f} ±{:0.2f}\".format(ACH_vd, naturaldecay_stderr))\n",
    "plt.legend()\n"
   ]
  },
  {
   "cell_type": "markdown",
   "metadata": {},
   "source": [
    "# Trial"
   ]
  },
  {
   "cell_type": "code",
   "execution_count": null,
   "metadata": {},
   "outputs": [],
   "source": [
    "filename = 'data_mesh/trial1.edf'\n",
    "\n",
    "if filename.endswith('.edf'):\n",
    "    df = pd.read_csv(filename, sep='\\t', skiprows=9)\n",
    "    df.rename(columns = {'Epoch_UTC': 'time'}, inplace=True)\n",
    "    # set time off of zero rather than epoch\n",
    "    time_offset = df.time[0]\n",
    "    df['time'] -= time_offset\n",
    "else:\n",
    "    df = pd.read_csv(filename)\n",
    "    print('F°: {}'.format(df['temp_F'][10]))\n",
    "    print('C°: {}'.format(df['temp_C'][10]))\n",
    "    print('rh: {}%'.format(df.rh[10]))\n",
    "\n",
    "# get rid of all the columns not used to fit the data\n",
    "for col in [x for x in df.columns.values.tolist() if x not in [col_fit, 'time']]:\n",
    "    del df[col]\n",
    "\n",
    "# especially not bothering with pm4.0 and pm10 bc they are just interpolations of 0.5, 1.0, and 2.5\n",
    "# see sensirion docs for the explanation\n",
    "\n",
    "# plot the original data\n",
    "df.set_index('time').plot(title='Trial', kind='line')\n"
   ]
  },
  {
   "cell_type": "code",
   "execution_count": null,
   "metadata": {},
   "outputs": [],
   "source": [
    "# begin window search at pm2.5 max\n",
    "pm25_max_idx = df.idxmax()[col_fit]\n",
    "if pm25_max_idx != 0:\n",
    "    df = df.tail(-pm25_max_idx).copy()\n",
    "    df.index -= df.index[0]\n",
    "    df['time'] -= df.time[0]\n",
    "\n",
    "# analyze CADR in window of [1000, 100] because error of sps 30 is multiplicative in this range, +/- 10%\n",
    "# in [100, 0] error becomes +/- 10 which means error will become exaggerated at these levels\n",
    "# see: https://sensirion.com/media/documents/8600FF88/616542B5/Sensirion_PM_Sensors_Datasheet_SPS30.pdf\n",
    "\n",
    "# cut off all records before pm2.5 dropped to 1000\n",
    "drop_start_idx = df[df[col_fit] <= fit_under].index[0]\n",
    "if drop_start_idx != 0:\n",
    "    df = df.tail(-drop_start_idx).copy()\n",
    "    df.index -= df.index[0]\n",
    "    df['time'] -= df.time[0]\n",
    "\n",
    "lt25_iloc = df[df[col_fit] < 100].index[0]\n",
    "df = df.head(lt25_iloc).copy()\n",
    "\n",
    "print('num data points to fit: {}'.format(len(df)))\n",
    "\n",
    "C_pt0, popt, totaldecay_stderr = test_fit(df)\n",
    "ACH = popt[0]\n",
    "print('C_pt0: {}'.format(C_pt0))\n",
    "print('ACH: {}'.format(ACH))\n",
    "print('stderr: {}'.format(naturaldecay_stderr))\n",
    "\n",
    "f = DecayFuncs(0, C_pt0)\n",
    "\n",
    "plt.scatter(df.time, df[col_fit], label=\"Original Data\")\n",
    "plt.plot(df.time, f.func(df.time, ACH), 'r-', label=\"ACH {:0.2f} ±{:0.2f}\".format(ACH, totaldecay_stderr))\n",
    "plt.legend()\n"
   ]
  },
  {
   "cell_type": "markdown",
   "metadata": {},
   "source": [
    "For this next part don't forget to change V_r (Volume of room/chamber) to match your value."
   ]
  },
  {
   "cell_type": "code",
   "execution_count": null,
   "metadata": {},
   "outputs": [],
   "source": [
    "ACH_f = ACH - ACH_vd\n",
    "# volume of room\n",
    "V_r = (59. / 12) * (59. / 12) * (72.8 / 12) # this is in cubic feet\n",
    "CADR = V_r * ACH_f / 60 # units of ACH are 1/h, divide by 60 to convert to 1/minutes so CADR is in cubic feet per minute\n",
    "CADR_err = V_r * np.sqrt((naturaldecay_stderr/60)**2 + (totaldecay_stderr/60)**2)\n",
    "\n",
    "print('stderr (ACH): {}'.format(totaldecay_stderr))\n",
    "\n",
    "fig, axes = plt.subplots(nrows=1, ncols=2, figsize=(18,6))\n",
    "\n",
    "plt.subplot(121)\n",
    "plt.scatter(df.time, df[col_fit], label=\"Original Data\")\n",
    "plt.plot(df.time, f.func(df.time, ACH), 'r-', label=\"CADR {:0.2f} ±{:0.2f}\".format(CADR, CADR_err))\n",
    "plt.legend()\n",
    "\n",
    "plt.subplot(122)\n",
    "plt.scatter(df.time, df[col_fit], label=\"Original Data\")\n",
    "plt.plot(df.time, f.func(df.time, ACH), 'r-', label=\"CADR {:0.2f} ±{:0.2f}\".format(CADR, CADR_err))\n",
    "plt.yscale('log')\n",
    "plt.legend()\n",
    "plt.show()"
   ]
  },
  {
   "cell_type": "markdown",
   "metadata": {},
   "source": [
    "Collect results of each trial here in `trials` to get the mean and standard error of the mean"
   ]
  },
  {
   "cell_type": "code",
   "execution_count": null,
   "metadata": {},
   "outputs": [],
   "source": [
    "trials = [94.47, 96.59, 93.92]\n",
    "\n",
    "print('mean of trials: {}'.format(np.mean(trials)))\n",
    "print('std error of the mean: {}'.format(scipy.stats.sem(trials)))\n",
    "print('{:.1f} ±{:.2f}'.format(np.mean(trials), scipy.stats.sem(trials)))"
   ]
  }
 ],
 "metadata": {
  "kernelspec": {
   "display_name": "Python 3.8.10 ('.venv': venv)",
   "language": "python",
   "name": "python3"
  },
  "language_info": {
   "codemirror_mode": {
    "name": "ipython",
    "version": 3
   },
   "file_extension": ".py",
   "mimetype": "text/x-python",
   "name": "python",
   "nbconvert_exporter": "python",
   "pygments_lexer": "ipython3",
   "version": "3.8.10"
  },
  "orig_nbformat": 4,
  "vscode": {
   "interpreter": {
    "hash": "8b3f1482a973b093268c0b7e858e79c7610bae26f85ab4da86baea20a855ff34"
   }
  }
 },
 "nbformat": 4,
 "nbformat_minor": 2
}
